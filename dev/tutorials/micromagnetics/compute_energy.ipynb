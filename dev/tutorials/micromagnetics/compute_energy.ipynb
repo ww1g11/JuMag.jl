{
 "cells": [
  {
   "cell_type": "markdown",
   "source": [
    "Import MicroMagnetic"
   ],
   "metadata": {}
  },
  {
   "outputs": [],
   "cell_type": "code",
   "source": [
    "using MicroMagnetic"
   ],
   "metadata": {},
   "execution_count": 1
  },
  {
   "cell_type": "markdown",
   "source": [
    "Create a finite difference mesh"
   ],
   "metadata": {}
  },
  {
   "outputs": [],
   "cell_type": "code",
   "source": [
    "mesh =  FDMesh(dx=5e-9, dy=5e-9, dz=5e-9, nx=10, ny=10, nz=1);"
   ],
   "metadata": {},
   "execution_count": 2
  },
  {
   "cell_type": "markdown",
   "source": [
    "Create a Simulation with saturation magnetization Ms=8.6e5 A/m\n",
    "Initilize the magnetization to (1,1,1) direction, note that |m|=1 so the magnetization vector m = (1,1,1)/sqrt(3)."
   ],
   "metadata": {}
  },
  {
   "outputs": [
    {
     "name": "stdout",
     "output_type": "stream",
     "text": [
      "[ Info: MicroSim has been created.\n"
     ]
    }
   ],
   "cell_type": "code",
   "source": [
    "sim = create_sim(mesh, Ms=8.6e5, m0=(1,1,1));"
   ],
   "metadata": {},
   "execution_count": 3
  },
  {
   "cell_type": "markdown",
   "source": [
    "Consider the demagnetization energy"
   ],
   "metadata": {}
  },
  {
   "outputs": [],
   "cell_type": "code",
   "source": [
    "demag = add_demag(sim);"
   ],
   "metadata": {},
   "execution_count": 4
  },
  {
   "cell_type": "markdown",
   "source": [
    "Consider the zeeman energy"
   ],
   "metadata": {}
  },
  {
   "outputs": [
    {
     "name": "stdout",
     "output_type": "stream",
     "text": [
      "[ Info: Static Zeeman has been added.\n"
     ]
    }
   ],
   "cell_type": "code",
   "source": [
    "zeeman = add_zeeman(sim, (0,0,1e5));"
   ],
   "metadata": {},
   "execution_count": 5
  },
  {
   "cell_type": "markdown",
   "source": [
    "Calculate the effective fields and energies"
   ],
   "metadata": {}
  },
  {
   "outputs": [],
   "cell_type": "code",
   "source": [
    "MicroMagnetic.effective_field(sim, sim.spin)"
   ],
   "metadata": {},
   "execution_count": 6
  },
  {
   "cell_type": "markdown",
   "source": [
    "Calculate the total energies"
   ],
   "metadata": {}
  },
  {
   "outputs": [
    {
     "name": "stdout",
     "output_type": "stream",
     "text": [
      "Demag Energy: 1.93626827216254e-18 J\n",
      "Zeeman Energy: -7.799337266207139e-19 J\n"
     ]
    }
   ],
   "cell_type": "code",
   "source": [
    "println(\"Demag Energy: \",sum(demag.energy), \" J\")\n",
    "println(\"Zeeman Energy: \",sum(zeeman.energy), \" J\")"
   ],
   "metadata": {},
   "execution_count": 7
  },
  {
   "cell_type": "markdown",
   "source": [
    "---\n",
    "\n",
    "*This notebook was generated using [Literate.jl](https://github.com/fredrikekre/Literate.jl).*"
   ],
   "metadata": {}
  }
 ],
 "nbformat_minor": 3,
 "metadata": {
  "language_info": {
   "file_extension": ".jl",
   "mimetype": "application/julia",
   "name": "julia",
   "version": "1.10.3"
  },
  "kernelspec": {
   "name": "julia-1.10",
   "display_name": "Julia 1.10.3",
   "language": "julia"
  }
 },
 "nbformat": 4
}
